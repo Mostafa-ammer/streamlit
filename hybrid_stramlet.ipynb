{
 "cells": [
  {
   "cell_type": "code",
   "execution_count": 1,
   "metadata": {
    "execution": {
     "iopub.execute_input": "2023-10-02T19:34:26.159811Z",
     "iopub.status.busy": "2023-10-02T19:34:26.159099Z",
     "iopub.status.idle": "2023-10-02T19:34:53.057195Z",
     "shell.execute_reply": "2023-10-02T19:34:53.055893Z",
     "shell.execute_reply.started": "2023-10-02T19:34:26.159781Z"
    }
   },
   "outputs": [
    {
     "name": "stdout",
     "output_type": "stream",
     "text": [
      "Requirement already satisfied: scikit-surprise in c:\\users\\mostafa\\anaconda33\\lib\\site-packages (1.1.3)\n",
      "Requirement already satisfied: joblib>=1.0.0 in c:\\users\\mostafa\\anaconda33\\lib\\site-packages (from scikit-surprise) (1.1.1)\n",
      "Requirement already satisfied: numpy>=1.17.3 in c:\\users\\mostafa\\anaconda33\\lib\\site-packages (from scikit-surprise) (1.23.5)\n",
      "Requirement already satisfied: scipy>=1.3.2 in c:\\users\\mostafa\\anaconda33\\lib\\site-packages (from scikit-surprise) (1.10.0)\n",
      "Requirement already satisfied: tensorflow in c:\\users\\mostafa\\anaconda33\\lib\\site-packages (2.14.0)\n",
      "Requirement already satisfied: tensorflow-intel==2.14.0 in c:\\users\\mostafa\\anaconda33\\lib\\site-packages (from tensorflow) (2.14.0)\n",
      "Requirement already satisfied: absl-py>=1.0.0 in c:\\users\\mostafa\\anaconda33\\lib\\site-packages (from tensorflow-intel==2.14.0->tensorflow) (1.4.0)\n",
      "Requirement already satisfied: astunparse>=1.6.0 in c:\\users\\mostafa\\anaconda33\\lib\\site-packages (from tensorflow-intel==2.14.0->tensorflow) (1.6.3)\n",
      "Requirement already satisfied: flatbuffers>=23.5.26 in c:\\users\\mostafa\\anaconda33\\lib\\site-packages (from tensorflow-intel==2.14.0->tensorflow) (23.5.26)\n",
      "Requirement already satisfied: gast!=0.5.0,!=0.5.1,!=0.5.2,>=0.2.1 in c:\\users\\mostafa\\anaconda33\\lib\\site-packages (from tensorflow-intel==2.14.0->tensorflow) (0.5.4)\n",
      "Requirement already satisfied: google-pasta>=0.1.1 in c:\\users\\mostafa\\anaconda33\\lib\\site-packages (from tensorflow-intel==2.14.0->tensorflow) (0.2.0)\n",
      "Requirement already satisfied: h5py>=2.9.0 in c:\\users\\mostafa\\anaconda33\\lib\\site-packages (from tensorflow-intel==2.14.0->tensorflow) (3.7.0)\n",
      "Requirement already satisfied: libclang>=13.0.0 in c:\\users\\mostafa\\anaconda33\\lib\\site-packages (from tensorflow-intel==2.14.0->tensorflow) (16.0.6)\n",
      "Requirement already satisfied: ml-dtypes==0.2.0 in c:\\users\\mostafa\\anaconda33\\lib\\site-packages (from tensorflow-intel==2.14.0->tensorflow) (0.2.0)\n",
      "Requirement already satisfied: numpy>=1.23.5 in c:\\users\\mostafa\\anaconda33\\lib\\site-packages (from tensorflow-intel==2.14.0->tensorflow) (1.23.5)\n",
      "Requirement already satisfied: opt-einsum>=2.3.2 in c:\\users\\mostafa\\anaconda33\\lib\\site-packages (from tensorflow-intel==2.14.0->tensorflow) (3.3.0)\n",
      "Requirement already satisfied: packaging in c:\\users\\mostafa\\anaconda33\\lib\\site-packages (from tensorflow-intel==2.14.0->tensorflow) (22.0)\n",
      "Requirement already satisfied: protobuf!=4.21.0,!=4.21.1,!=4.21.2,!=4.21.3,!=4.21.4,!=4.21.5,<5.0.0dev,>=3.20.3 in c:\\users\\mostafa\\anaconda33\\lib\\site-packages (from tensorflow-intel==2.14.0->tensorflow) (4.23.4)\n",
      "Requirement already satisfied: setuptools in c:\\users\\mostafa\\anaconda33\\lib\\site-packages (from tensorflow-intel==2.14.0->tensorflow) (68.2.2)\n",
      "Requirement already satisfied: six>=1.12.0 in c:\\users\\mostafa\\anaconda33\\lib\\site-packages (from tensorflow-intel==2.14.0->tensorflow) (1.16.0)\n",
      "Requirement already satisfied: termcolor>=1.1.0 in c:\\users\\mostafa\\anaconda33\\lib\\site-packages (from tensorflow-intel==2.14.0->tensorflow) (2.3.0)\n",
      "Requirement already satisfied: typing-extensions>=3.6.6 in c:\\users\\mostafa\\anaconda33\\lib\\site-packages (from tensorflow-intel==2.14.0->tensorflow) (4.4.0)\n",
      "Requirement already satisfied: wrapt<1.15,>=1.11.0 in c:\\users\\mostafa\\anaconda33\\lib\\site-packages (from tensorflow-intel==2.14.0->tensorflow) (1.14.1)\n",
      "Requirement already satisfied: tensorflow-io-gcs-filesystem>=0.23.1 in c:\\users\\mostafa\\anaconda33\\lib\\site-packages (from tensorflow-intel==2.14.0->tensorflow) (0.31.0)\n",
      "Requirement already satisfied: grpcio<2.0,>=1.24.3 in c:\\users\\mostafa\\anaconda33\\lib\\site-packages (from tensorflow-intel==2.14.0->tensorflow) (1.56.0)\n",
      "Requirement already satisfied: tensorboard<2.15,>=2.14 in c:\\users\\mostafa\\anaconda33\\lib\\site-packages (from tensorflow-intel==2.14.0->tensorflow) (2.14.1)\n",
      "Requirement already satisfied: tensorflow-estimator<2.15,>=2.14.0 in c:\\users\\mostafa\\anaconda33\\lib\\site-packages (from tensorflow-intel==2.14.0->tensorflow) (2.14.0)\n",
      "Requirement already satisfied: keras<2.15,>=2.14.0 in c:\\users\\mostafa\\anaconda33\\lib\\site-packages (from tensorflow-intel==2.14.0->tensorflow) (2.14.0)\n",
      "Requirement already satisfied: wheel<1.0,>=0.23.0 in c:\\users\\mostafa\\anaconda33\\lib\\site-packages (from astunparse>=1.6.0->tensorflow-intel==2.14.0->tensorflow) (0.38.4)\n",
      "Requirement already satisfied: google-auth<3,>=1.6.3 in c:\\users\\mostafa\\anaconda33\\lib\\site-packages (from tensorboard<2.15,>=2.14->tensorflow-intel==2.14.0->tensorflow) (2.22.0)\n",
      "Requirement already satisfied: google-auth-oauthlib<1.1,>=0.5 in c:\\users\\mostafa\\anaconda33\\lib\\site-packages (from tensorboard<2.15,>=2.14->tensorflow-intel==2.14.0->tensorflow) (1.0.0)\n",
      "Requirement already satisfied: markdown>=2.6.8 in c:\\users\\mostafa\\anaconda33\\lib\\site-packages (from tensorboard<2.15,>=2.14->tensorflow-intel==2.14.0->tensorflow) (3.4.1)\n",
      "Requirement already satisfied: requests<3,>=2.21.0 in c:\\users\\mostafa\\anaconda33\\lib\\site-packages (from tensorboard<2.15,>=2.14->tensorflow-intel==2.14.0->tensorflow) (2.28.1)\n",
      "Requirement already satisfied: tensorboard-data-server<0.8.0,>=0.7.0 in c:\\users\\mostafa\\anaconda33\\lib\\site-packages (from tensorboard<2.15,>=2.14->tensorflow-intel==2.14.0->tensorflow) (0.7.1)\n",
      "Requirement already satisfied: werkzeug>=1.0.1 in c:\\users\\mostafa\\anaconda33\\lib\\site-packages (from tensorboard<2.15,>=2.14->tensorflow-intel==2.14.0->tensorflow) (2.2.2)\n",
      "Requirement already satisfied: cachetools<6.0,>=2.0.0 in c:\\users\\mostafa\\anaconda33\\lib\\site-packages (from google-auth<3,>=1.6.3->tensorboard<2.15,>=2.14->tensorflow-intel==2.14.0->tensorflow) (5.3.1)\n",
      "Requirement already satisfied: pyasn1-modules>=0.2.1 in c:\\users\\mostafa\\anaconda33\\lib\\site-packages (from google-auth<3,>=1.6.3->tensorboard<2.15,>=2.14->tensorflow-intel==2.14.0->tensorflow) (0.2.8)\n",
      "Requirement already satisfied: rsa<5,>=3.1.4 in c:\\users\\mostafa\\anaconda33\\lib\\site-packages (from google-auth<3,>=1.6.3->tensorboard<2.15,>=2.14->tensorflow-intel==2.14.0->tensorflow) (4.9)\n",
      "Requirement already satisfied: urllib3<2.0 in c:\\users\\mostafa\\anaconda33\\lib\\site-packages (from google-auth<3,>=1.6.3->tensorboard<2.15,>=2.14->tensorflow-intel==2.14.0->tensorflow) (1.26.14)\n",
      "Requirement already satisfied: requests-oauthlib>=0.7.0 in c:\\users\\mostafa\\anaconda33\\lib\\site-packages (from google-auth-oauthlib<1.1,>=0.5->tensorboard<2.15,>=2.14->tensorflow-intel==2.14.0->tensorflow) (1.3.1)\n",
      "Requirement already satisfied: charset-normalizer<3,>=2 in c:\\users\\mostafa\\anaconda33\\lib\\site-packages (from requests<3,>=2.21.0->tensorboard<2.15,>=2.14->tensorflow-intel==2.14.0->tensorflow) (2.0.4)\n",
      "Requirement already satisfied: idna<4,>=2.5 in c:\\users\\mostafa\\anaconda33\\lib\\site-packages (from requests<3,>=2.21.0->tensorboard<2.15,>=2.14->tensorflow-intel==2.14.0->tensorflow) (3.4)\n",
      "Requirement already satisfied: certifi>=2017.4.17 in c:\\users\\mostafa\\anaconda33\\lib\\site-packages (from requests<3,>=2.21.0->tensorboard<2.15,>=2.14->tensorflow-intel==2.14.0->tensorflow) (2023.7.22)\n",
      "Requirement already satisfied: MarkupSafe>=2.1.1 in c:\\users\\mostafa\\anaconda33\\lib\\site-packages (from werkzeug>=1.0.1->tensorboard<2.15,>=2.14->tensorflow-intel==2.14.0->tensorflow) (2.1.1)\n",
      "Requirement already satisfied: pyasn1<0.5.0,>=0.4.6 in c:\\users\\mostafa\\anaconda33\\lib\\site-packages (from pyasn1-modules>=0.2.1->google-auth<3,>=1.6.3->tensorboard<2.15,>=2.14->tensorflow-intel==2.14.0->tensorflow) (0.4.8)\n",
      "Requirement already satisfied: oauthlib>=3.0.0 in c:\\users\\mostafa\\anaconda33\\lib\\site-packages (from requests-oauthlib>=0.7.0->google-auth-oauthlib<1.1,>=0.5->tensorboard<2.15,>=2.14->tensorflow-intel==2.14.0->tensorflow) (3.2.2)\n",
      "Requirement already satisfied: streamlit in c:\\users\\mostafa\\anaconda33\\lib\\site-packages (1.27.1)\n",
      "Requirement already satisfied: altair<6,>=4.0 in c:\\users\\mostafa\\anaconda33\\lib\\site-packages (from streamlit) (5.1.1)\n",
      "Requirement already satisfied: blinker<2,>=1.0.0 in c:\\users\\mostafa\\anaconda33\\lib\\site-packages (from streamlit) (1.6.2)\n",
      "Requirement already satisfied: cachetools<6,>=4.0 in c:\\users\\mostafa\\anaconda33\\lib\\site-packages (from streamlit) (5.3.1)\n",
      "Requirement already satisfied: click<9,>=7.0 in c:\\users\\mostafa\\anaconda33\\lib\\site-packages (from streamlit) (8.1.7)\n",
      "Requirement already satisfied: importlib-metadata<7,>=1.4 in c:\\users\\mostafa\\anaconda33\\lib\\site-packages (from streamlit) (4.11.3)\n",
      "Requirement already satisfied: numpy<2,>=1.19.3 in c:\\users\\mostafa\\anaconda33\\lib\\site-packages (from streamlit) (1.23.5)\n",
      "Requirement already satisfied: packaging<24,>=16.8 in c:\\users\\mostafa\\anaconda33\\lib\\site-packages (from streamlit) (22.0)\n",
      "Requirement already satisfied: pandas<3,>=1.3.0 in c:\\users\\mostafa\\anaconda33\\lib\\site-packages (from streamlit) (1.5.3)\n",
      "Requirement already satisfied: pillow<11,>=7.1.0 in c:\\users\\mostafa\\anaconda33\\lib\\site-packages (from streamlit) (9.4.0)\n",
      "Requirement already satisfied: protobuf<5,>=3.20 in c:\\users\\mostafa\\anaconda33\\lib\\site-packages (from streamlit) (4.23.4)\n",
      "Requirement already satisfied: pyarrow>=6.0 in c:\\users\\mostafa\\anaconda33\\lib\\site-packages (from streamlit) (13.0.0)\n",
      "Requirement already satisfied: python-dateutil<3,>=2.7.3 in c:\\users\\mostafa\\anaconda33\\lib\\site-packages (from streamlit) (2.8.2)\n",
      "Requirement already satisfied: requests<3,>=2.27 in c:\\users\\mostafa\\anaconda33\\lib\\site-packages (from streamlit) (2.28.1)\n",
      "Requirement already satisfied: rich<14,>=10.14.0 in c:\\users\\mostafa\\anaconda33\\lib\\site-packages (from streamlit) (13.6.0)\n",
      "Requirement already satisfied: tenacity<9,>=8.1.0 in c:\\users\\mostafa\\anaconda33\\lib\\site-packages (from streamlit) (8.2.3)\n",
      "Requirement already satisfied: toml<2,>=0.10.1 in c:\\users\\mostafa\\anaconda33\\lib\\site-packages (from streamlit) (0.10.2)\n",
      "Requirement already satisfied: typing-extensions<5,>=4.1.0 in c:\\users\\mostafa\\anaconda33\\lib\\site-packages (from streamlit) (4.4.0)\n",
      "Requirement already satisfied: tzlocal<6,>=1.1 in c:\\users\\mostafa\\anaconda33\\lib\\site-packages (from streamlit) (5.0.1)\n",
      "Requirement already satisfied: validators<1,>=0.2 in c:\\users\\mostafa\\anaconda33\\lib\\site-packages (from streamlit) (0.22.0)\n",
      "Requirement already satisfied: gitpython!=3.1.19,<4,>=3.0.7 in c:\\users\\mostafa\\anaconda33\\lib\\site-packages (from streamlit) (3.1.37)\n",
      "Requirement already satisfied: pydeck<1,>=0.8.0b4 in c:\\users\\mostafa\\anaconda33\\lib\\site-packages (from streamlit) (0.8.1b0)\n",
      "Requirement already satisfied: tornado<7,>=6.0.3 in c:\\users\\mostafa\\anaconda33\\lib\\site-packages (from streamlit) (6.1)\n",
      "Requirement already satisfied: watchdog>=2.1.5 in c:\\users\\mostafa\\anaconda33\\lib\\site-packages (from streamlit) (2.1.6)\n",
      "Requirement already satisfied: jinja2 in c:\\users\\mostafa\\anaconda33\\lib\\site-packages (from altair<6,>=4.0->streamlit) (3.1.2)\n",
      "Requirement already satisfied: jsonschema>=3.0 in c:\\users\\mostafa\\anaconda33\\lib\\site-packages (from altair<6,>=4.0->streamlit) (4.17.3)\n",
      "Requirement already satisfied: toolz in c:\\users\\mostafa\\anaconda33\\lib\\site-packages (from altair<6,>=4.0->streamlit) (0.12.0)\n",
      "Requirement already satisfied: colorama in c:\\users\\mostafa\\anaconda33\\lib\\site-packages (from click<9,>=7.0->streamlit) (0.4.6)\n",
      "Requirement already satisfied: gitdb<5,>=4.0.1 in c:\\users\\mostafa\\anaconda33\\lib\\site-packages (from gitpython!=3.1.19,<4,>=3.0.7->streamlit) (4.0.10)\n",
      "Requirement already satisfied: zipp>=0.5 in c:\\users\\mostafa\\anaconda33\\lib\\site-packages (from importlib-metadata<7,>=1.4->streamlit) (3.11.0)\n",
      "Requirement already satisfied: pytz>=2020.1 in c:\\users\\mostafa\\anaconda33\\lib\\site-packages (from pandas<3,>=1.3.0->streamlit) (2022.7)\n",
      "Requirement already satisfied: six>=1.5 in c:\\users\\mostafa\\anaconda33\\lib\\site-packages (from python-dateutil<3,>=2.7.3->streamlit) (1.16.0)\n",
      "Requirement already satisfied: charset-normalizer<3,>=2 in c:\\users\\mostafa\\anaconda33\\lib\\site-packages (from requests<3,>=2.27->streamlit) (2.0.4)\n",
      "Requirement already satisfied: idna<4,>=2.5 in c:\\users\\mostafa\\anaconda33\\lib\\site-packages (from requests<3,>=2.27->streamlit) (3.4)\n",
      "Requirement already satisfied: urllib3<1.27,>=1.21.1 in c:\\users\\mostafa\\anaconda33\\lib\\site-packages (from requests<3,>=2.27->streamlit) (1.26.14)\n",
      "Requirement already satisfied: certifi>=2017.4.17 in c:\\users\\mostafa\\anaconda33\\lib\\site-packages (from requests<3,>=2.27->streamlit) (2023.7.22)\n",
      "Requirement already satisfied: markdown-it-py>=2.2.0 in c:\\users\\mostafa\\anaconda33\\lib\\site-packages (from rich<14,>=10.14.0->streamlit) (3.0.0)\n",
      "Requirement already satisfied: pygments<3.0.0,>=2.13.0 in c:\\users\\mostafa\\anaconda33\\lib\\site-packages (from rich<14,>=10.14.0->streamlit) (2.16.1)\n",
      "Requirement already satisfied: tzdata in c:\\users\\mostafa\\anaconda33\\lib\\site-packages (from tzlocal<6,>=1.1->streamlit) (2023.3)\n",
      "Requirement already satisfied: smmap<6,>=3.0.1 in c:\\users\\mostafa\\anaconda33\\lib\\site-packages (from gitdb<5,>=4.0.1->gitpython!=3.1.19,<4,>=3.0.7->streamlit) (5.0.1)\n",
      "Requirement already satisfied: MarkupSafe>=2.0 in c:\\users\\mostafa\\anaconda33\\lib\\site-packages (from jinja2->altair<6,>=4.0->streamlit) (2.1.1)\n",
      "Requirement already satisfied: attrs>=17.4.0 in c:\\users\\mostafa\\anaconda33\\lib\\site-packages (from jsonschema>=3.0->altair<6,>=4.0->streamlit) (22.1.0)\n",
      "Requirement already satisfied: pyrsistent!=0.17.0,!=0.17.1,!=0.17.2,>=0.14.0 in c:\\users\\mostafa\\anaconda33\\lib\\site-packages (from jsonschema>=3.0->altair<6,>=4.0->streamlit) (0.18.0)\n",
      "Requirement already satisfied: mdurl~=0.1 in c:\\users\\mostafa\\anaconda33\\lib\\site-packages (from markdown-it-py>=2.2.0->rich<14,>=10.14.0->streamlit) (0.1.2)\n"
     ]
    }
   ],
   "source": [
    "!pip install scikit-surprise\n",
    "!pip install tensorflow\n",
    "!pip install --upgrade streamlit"
   ]
  },
  {
   "cell_type": "code",
   "execution_count": 2,
   "metadata": {
    "colab": {
     "base_uri": "https://localhost:8080/"
    },
    "execution": {
     "iopub.execute_input": "2023-10-02T19:34:53.060341Z",
     "iopub.status.busy": "2023-10-02T19:34:53.059953Z",
     "iopub.status.idle": "2023-10-02T19:35:19.853606Z",
     "shell.execute_reply": "2023-10-02T19:35:19.852365Z",
     "shell.execute_reply.started": "2023-10-02T19:34:53.060301Z"
    },
    "id": "VXxo6Lonyyt_",
    "outputId": "a1fb8d6e-313a-46e4-ee4d-d1d0cf31eb3c",
    "scrolled": true
   },
   "outputs": [
    {
     "name": "stdout",
     "output_type": "stream",
     "text": [
      "Collecting git+http://github.com/brendanhasz/dsutils.git\n",
      "  Cloning http://github.com/brendanhasz/dsutils.git to c:\\users\\mostafa\\appdata\\local\\temp\\pip-req-build-6axo8gzw\n",
      "  Resolved http://github.com/brendanhasz/dsutils.git to commit e780e904f7bf0ec5e14aa7ddb337f01f29779143\n",
      "  Preparing metadata (setup.py): started\n",
      "  Preparing metadata (setup.py): finished with status 'error'\n"
     ]
    },
    {
     "name": "stderr",
     "output_type": "stream",
     "text": [
      "  Running command git clone --filter=blob:none --quiet http://github.com/brendanhasz/dsutils.git 'C:\\Users\\mostafa\\AppData\\Local\\Temp\\pip-req-build-6axo8gzw'\n",
      "  warning: redirecting to https://github.com/brendanhasz/dsutils.git/\n",
      "  ERROR: Error [WinError 225] Operation did not complete successfully because the file contains a virus or potentially unwanted software while executing command python setup.py egg_info\n",
      "ERROR: Could not install packages due to an OSError: [WinError 225] Operation did not complete successfully because the file contains a virus or potentially unwanted software\n",
      "\n"
     ]
    },
    {
     "name": "stdout",
     "output_type": "stream",
     "text": [
      "Requirement already satisfied: wordcloud in c:\\users\\mostafa\\anaconda33\\lib\\site-packages (1.9.2)\n",
      "Requirement already satisfied: numpy>=1.6.1 in c:\\users\\mostafa\\anaconda33\\lib\\site-packages (from wordcloud) (1.23.5)\n",
      "Requirement already satisfied: pillow in c:\\users\\mostafa\\anaconda33\\lib\\site-packages (from wordcloud) (9.4.0)\n",
      "Requirement already satisfied: matplotlib in c:\\users\\mostafa\\anaconda33\\lib\\site-packages (from wordcloud) (3.7.0)\n",
      "Requirement already satisfied: contourpy>=1.0.1 in c:\\users\\mostafa\\anaconda33\\lib\\site-packages (from matplotlib->wordcloud) (1.0.5)\n",
      "Requirement already satisfied: cycler>=0.10 in c:\\users\\mostafa\\anaconda33\\lib\\site-packages (from matplotlib->wordcloud) (0.11.0)\n",
      "Requirement already satisfied: fonttools>=4.22.0 in c:\\users\\mostafa\\anaconda33\\lib\\site-packages (from matplotlib->wordcloud) (4.25.0)\n",
      "Requirement already satisfied: kiwisolver>=1.0.1 in c:\\users\\mostafa\\anaconda33\\lib\\site-packages (from matplotlib->wordcloud) (1.4.4)\n",
      "Requirement already satisfied: packaging>=20.0 in c:\\users\\mostafa\\anaconda33\\lib\\site-packages (from matplotlib->wordcloud) (22.0)\n",
      "Requirement already satisfied: pyparsing>=2.3.1 in c:\\users\\mostafa\\anaconda33\\lib\\site-packages (from matplotlib->wordcloud) (3.0.9)\n",
      "Requirement already satisfied: python-dateutil>=2.7 in c:\\users\\mostafa\\anaconda33\\lib\\site-packages (from matplotlib->wordcloud) (2.8.2)\n",
      "Requirement already satisfied: six>=1.5 in c:\\users\\mostafa\\anaconda33\\lib\\site-packages (from python-dateutil>=2.7->matplotlib->wordcloud) (1.16.0)\n",
      "Requirement already satisfied: scikit-surprise in c:\\users\\mostafa\\anaconda33\\lib\\site-packages (1.1.3)\n",
      "Requirement already satisfied: joblib>=1.0.0 in c:\\users\\mostafa\\anaconda33\\lib\\site-packages (from scikit-surprise) (1.1.1)\n",
      "Requirement already satisfied: numpy>=1.17.3 in c:\\users\\mostafa\\anaconda33\\lib\\site-packages (from scikit-surprise) (1.23.5)\n",
      "Requirement already satisfied: scipy>=1.3.2 in c:\\users\\mostafa\\anaconda33\\lib\\site-packages (from scikit-surprise) (1.10.0)\n"
     ]
    }
   ],
   "source": [
    "#install needed libraries\n",
    "\n",
    "!pip install git+http://github.com/brendanhasz/dsutils.git\n",
    "!pip install wordcloud\n",
    "!pip install scikit-surprise"
   ]
  },
  {
   "cell_type": "markdown",
   "metadata": {
    "id": "-l_OBzmSy4X3"
   },
   "source": [
    "## Import libraries"
   ]
  },
  {
   "cell_type": "markdown",
   "metadata": {
    "id": "0CkiX6WBEhhH"
   },
   "source": [
    "## Hybrid Recommendation System"
   ]
  },
  {
   "cell_type": "markdown",
   "metadata": {},
   "source": [
    "# **Hybrid Recommendation (Content Based + item_based Collaborative Filtering)**"
   ]
  },
  {
   "cell_type": "markdown",
   "metadata": {},
   "source": [
    "Main Steps : \n",
    "\n",
    "\n",
    "1- TF-IDF (Term Frequency-Inverse Document Frequency) is a numerical statistic that reflects the importance of a word or term within a document relative to a collection of documents\n",
    "\n",
    "2- computes the cosine similarity between all pairs of movies based on their TF-IDF representations\n",
    "\n",
    "3-Description of content_base function  \n",
    "\n",
    "\n",
    "     1- The function takes a single input parameter, title\n",
    "\n",
    "     2- idx : find the index of the input movie title within the \"movies\" DataFrame\n",
    "\n",
    "     3- list of tuples where each tuple contains two values: the index of a movie and its cosine similarity score with the input movie\n",
    "\n",
    "     4- sim_scores : is sorted in descending order based on the cosine similarity scores\n",
    "\n",
    "     5- sim_scores = sim_scores[1:11] removes the first item in the sorted list, which corresponds to the input movie itself\n",
    "\n",
    "     6- movie_indices : is a list containing the indices of the top 10 similar movies in the original \"movies\" DataFrame.\n",
    "\n",
    "4- Get collaborative filtering recommendations using item-based approach\n",
    "\n",
    "5- Calculate item-item similarity using item ratings\n",
    "\n",
    "6- Get similar items to the target movie\n",
    "\n",
    "7- Merge the recommendations and remove duplicates\n"
   ]
  },
  {
   "cell_type": "code",
   "execution_count": 3,
   "metadata": {
    "execution": {
     "iopub.execute_input": "2023-10-02T19:35:39.580321Z",
     "iopub.status.busy": "2023-10-02T19:35:39.579923Z",
     "iopub.status.idle": "2023-10-02T19:35:39.591739Z",
     "shell.execute_reply": "2023-10-02T19:35:39.590751Z",
     "shell.execute_reply.started": "2023-10-02T19:35:39.580281Z"
    }
   },
   "outputs": [
    {
     "name": "stdout",
     "output_type": "stream",
     "text": [
      "Overwriting app900.py\n"
     ]
    }
   ],
   "source": [
    "%%writefile app900.py\n",
    "import streamlit as st\n",
    "import re\n",
    "import pandas as pd\n",
    "import numpy as np\n",
    "from sklearn.feature_extraction.text import TfidfVectorizer\n",
    "from sklearn.metrics.pairwise import linear_kernel\n",
    "from surprise import Dataset, Reader, SVD\n",
    "from surprise.model_selection import train_test_split\n",
    "from surprise import accuracy\n",
    "import matplotlib.pyplot as plt\n",
    "\n",
    "st.markdown(\n",
    "    \"\"\"\n",
    "    <style>\n",
    "    /* Adjust the sidebar position */\n",
    "    .sidebar .sidebar-content {\n",
    "        position: fixed;\n",
    "        overflow-y: hidden; /* Hide vertical scrollbar */\n",
    "    }\n",
    "\n",
    "    </style>\n",
    "    \"\"\",\n",
    "    unsafe_allow_html=True,\n",
    ")\n",
    "\n",
    "#load Data\n",
    "ratings_df = pd.read_csv('ratings.csv')\n",
    "movies_data=pd.read_csv('movies.csv')\n",
    "original_movies=movies_data\n",
    "\n",
    "\n",
    "# Function to remove the year from movie titles\n",
    "def remove_year(title):\n",
    "    return re.sub(r'\\(\\d{4}\\)', '', title).strip()\n",
    "\n",
    "# Apply the function to the 'title' column\n",
    "original_movies['title'] = original_movies['title'].apply(remove_year)\n",
    "\n",
    "# Collaborative Filtering Setup\n",
    "reader = Reader(rating_scale=(0.5, 5))\n",
    "data = Dataset.load_from_df(ratings_df[['userId', 'movieId', 'rating']], reader)\n",
    "# Split the data\n",
    "trainset, testset = train_test_split(data, test_size=0.2, random_state=42)\n",
    "# Build and train an SVD model\n",
    "svd = SVD()\n",
    "svd.fit(trainset)\n",
    "# Content-Based Setup\n",
    "tfidf = TfidfVectorizer(stop_words='english')\n",
    "print(original_movies.head())\n",
    "tfidf_matrix = tfidf.fit_transform(original_movies['genres'].fillna(''))\n",
    "cosine_sim = linear_kernel(tfidf_matrix, tfidf_matrix)\n",
    "\n",
    "# Function to get content-based recommendations\n",
    "def get_content_based_recommendations(title, r_c=11):\n",
    "    idx = original_movies.index[original_movies['title'] == title].tolist()[0]\n",
    "    sim_scores = list(enumerate(cosine_sim[idx]))\n",
    "    sim_scores = sorted(sim_scores, key=lambda x: x[1], reverse=True)\n",
    "    # Exclude the movie itself\n",
    "    sim_scores = sim_scores[1:r_c]\n",
    "    movie_indices = [i[0] for i in sim_scores]\n",
    "    return original_movies['title'].iloc[movie_indices]\n",
    "\n",
    "#  hybrid_recommendations function with item-based recommendations\n",
    "def hybrid_recommendations(userId, title, k=10, r_c=11):\n",
    "    # Get content-based recommendations\n",
    "    content_based_recs = get_content_based_recommendations(title, r_c)\n",
    "\n",
    "    # Get collaborative filtering recommendations using item-based approach\n",
    "    collab_filtering_recs = []\n",
    "    try:\n",
    "        movie_id = original_movies['movieId'][original_movies['title'] == title].values[0]\n",
    "        user_id = userId\n",
    "        # Calculate item-item similarity using item ratings\n",
    "        item_similarity = cosine_sim.dot(ratings_df.T)\n",
    "        # Get similar items to the target movie\n",
    "        similar_items = item_similarity[movie_id]\n",
    "        # Sort by similarity and get the top k\n",
    "        top_similar_items = similar_items.argsort()[::-1][:k]\n",
    "        collab_filtering_recs = [original_movies['title'].iloc[i] for i in top_similar_items]\n",
    "    except:\n",
    "        pass\n",
    "\n",
    "    recommendations = list(set(content_based_recs) | set(collab_filtering_recs))\n",
    "\n",
    "    return recommendations\n",
    "\n",
    "# Streamlit interface\n",
    "st.title(\"Movie Recommendation System\")\n",
    "user_id = st.text_input(\"Select User ID:\", )\n",
    "movie_title = st.text_input(\"Enter Movie Title:\")\n",
    "num_recommendations = st.text_input(\"Number of Recommendations:\", )\n",
    "\n",
    "if st.button(\"Get Recommendations\"):\n",
    "    recommendations = hybrid_recommendations(user_id, movie_title, num_recommendations)\n",
    "\n",
    "    st.subheader(\"Recommended Movies:\")\n",
    "    for i, movie in enumerate(recommendations):\n",
    "        # Create a button to show/hide the explanation\n",
    "        button = st.checkbox(f\"Show Explanation for {movie}\", False)\n",
    "        if button:\n",
    "            explanation = generate_explanation(movie, movie_title)  # Generate an explanation\n",
    "            st.markdown(\n",
    "                f\"\"\"<div style='border: 2px solid #ccc; padding: 10px; margin: 5px;'>{i+1}. {movie}<br>Type of Movie is {movie_genre}<br>Explanation: {explanation}</div>\"\"\",\n",
    "                unsafe_allow_html=True\n",
    "            )\n",
    "\n",
    "caption1 = \"Toy Story\"\n",
    "image_url1 = \"https://media.comicbook.com/2019/03/toy-story-4-poster-1163565.jpeg\"  # Replace with your image URL\n",
    "st.sidebar.image(image_url1, caption=caption1, use_column_width=True)\n",
    "\n",
    "caption2 = \"Mulan\"\n",
    "image_url2 = \"https://media.wdwnt.com/2019/12/EK9zDtnUcAA5zXM-4.jpeg\"  # Replace with your image URL\n",
    "st.sidebar.image(image_url2, caption=caption2, use_column_width=True)\n",
    "\n",
    "caption3 = \"The Johnsons\"\n",
    "image_url3 = \"https://intheposter.com/cdn/shop/products/the-family-comedy-in-the-poster-1_1200x.jpg?v=1694762497\"  # Replace with your image URL\n",
    "st.sidebar.image(image_url3, caption=caption3, use_column_width=True)"
   ]
  },
  {
   "cell_type": "markdown",
   "metadata": {},
   "source": [
    "Run File"
   ]
  },
  {
   "cell_type": "code",
   "execution_count": 4,
   "metadata": {},
   "outputs": [
    {
     "name": "stdout",
     "output_type": "stream",
     "text": [
      "^C\n"
     ]
    }
   ],
   "source": [
    "! streamlit run app99.py"
   ]
  },
  {
   "cell_type": "code",
   "execution_count": null,
   "metadata": {},
   "outputs": [],
   "source": []
  }
 ],
 "metadata": {
  "colab": {
   "provenance": []
  },
  "kernelspec": {
   "display_name": "Python 3 (ipykernel)",
   "language": "python",
   "name": "python3"
  },
  "language_info": {
   "codemirror_mode": {
    "name": "ipython",
    "version": 3
   },
   "file_extension": ".py",
   "mimetype": "text/x-python",
   "name": "python",
   "nbconvert_exporter": "python",
   "pygments_lexer": "ipython3",
   "version": "3.10.9"
  }
 },
 "nbformat": 4,
 "nbformat_minor": 4
}
